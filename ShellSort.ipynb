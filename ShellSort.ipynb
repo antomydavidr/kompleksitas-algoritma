{
  "nbformat": 4,
  "nbformat_minor": 0,
  "metadata": {
    "colab": {
      "name": "ShellSort.ipynb",
      "provenance": []
    },
    "kernelspec": {
      "name": "python3",
      "display_name": "Python 3"
    }
  },
  "cells": [
    {
      "cell_type": "code",
      "metadata": {
        "id": "5bhCNLyol6j2",
        "colab_type": "code",
        "outputId": "8ae85790-b4f5-4493-b88d-0b27c836a262",
        "colab": {
          "base_uri": "https://localhost:8080/",
          "height": 85
        }
      },
      "source": [
        "def shellSort(alist):\n",
        "  sublistcount = len(alist)//2\n",
        "  while sublistcount > 0:\n",
        "    for start_position in range(sublistcount):\n",
        "      gap_InsertionSort(alist, start_position, sublistcount)\n",
        "      print(\"After increments of size\",sublistcount,\"The list is\",nlist)\n",
        "    sublistcount = sublistcount//2\n",
        "\n",
        "def gap_InsertionSort(nlist,start,gap):\n",
        "  for i in range(start+gap,len(nlist),gap):\n",
        "    current_value = nlist[i]\n",
        "    position = i\n",
        "\n",
        "    while position>=gap and nlist[position-gap]>current_value:\n",
        "      nlist[position]=nlist[position-gap]\n",
        "      position = position-gap\n",
        "\n",
        "    nlist[position]=current_value\n",
        "\n",
        "nlist=[3,4,100,90,70]\n",
        "shellSort(nlist)\n",
        "print(nlist)  "
      ],
      "execution_count": 0,
      "outputs": [
        {
          "output_type": "stream",
          "text": [
            "After increments of size 2 The list is [3, 4, 70, 90, 100]\n",
            "After increments of size 2 The list is [3, 4, 70, 90, 100]\n",
            "After increments of size 1 The list is [3, 4, 70, 90, 100]\n",
            "[3, 4, 70, 90, 100]\n"
          ],
          "name": "stdout"
        }
      ]
    }
  ]
}